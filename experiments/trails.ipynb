{
 "cells": [
  {
   "cell_type": "code",
   "execution_count": 115,
   "metadata": {},
   "outputs": [],
   "source": [
    "from gmplot import gmplot\n",
    "from tqdm import tqdm\n",
    "from typing import NamedTuple, List\n",
    "from collections import defaultdict\n",
    "import osmium as o\n",
    "import geopy.distance\n",
    "import sys\n",
    "import random\n",
    "from functools import reduce\n",
    "import srtm\n",
    "\n",
    "elevation = srtm.get_data()"
   ]
  },
  {
   "cell_type": "code",
   "execution_count": 14,
   "metadata": {},
   "outputs": [],
   "source": [
    "def window(iterable, size=2):\n",
    "    i = iter(iterable)\n",
    "    win = []\n",
    "    for e in range(0, size):\n",
    "        win.append(next(i))\n",
    "    yield win\n",
    "    for e in i:\n",
    "        win = win[1:] + [e]\n",
    "        yield win"
   ]
  },
  {
   "cell_type": "code",
   "execution_count": 142,
   "metadata": {},
   "outputs": [],
   "source": [
    "class Node(NamedTuple):\n",
    "    id: int\n",
    "    lat: float\n",
    "    lon: float\n",
    "        \n",
    "class ElevationChange(NamedTuple):\n",
    "    gain: float\n",
    "    loss: float\n",
    "    \n",
    "    @classmethod\n",
    "    def from_nodes(cls, nodes: List[Node]):\n",
    "        gain = 0\n",
    "        loss = 0\n",
    "        for n1, n2 in window(nodes):\n",
    "            e1 = elevation.get_elevation(n1.lat, n1.lon)\n",
    "            e2 = elevation.get_elevation(n2.lat, n2.lon)\n",
    "            if e2 > e1:\n",
    "                gain += e2 - e1\n",
    "            else:\n",
    "                loss += e1 - e2\n",
    "        return cls(gain, loss)\n",
    "            \n",
    "    \n",
    "        \n",
    "class Trail:\n",
    "    def __init__(self, nodes, id, name):\n",
    "        self.nodes = nodes\n",
    "        self.id = id\n",
    "        self.name = name\n",
    "        self._length = None\n",
    "        self._reversed = None\n",
    "\n",
    "    def _length(self):\n",
    "        dists = [geopy.distance.great_circle((a.lat, a.lon),(b.lat, b.lon)) for (a,b) in window(self.nodes)]\n",
    "        return reduce(lambda x,y:x+y, dists)\n",
    "    \n",
    "    @property\n",
    "    def length(self):\n",
    "        if self._length is None:\n",
    "            dists = [geopy.distance.great_circle((a.lat, a.lon),(b.lat, b.lon)) for (a,b) in window(self.nodes)]\n",
    "            self._length = reduce(lambda x,y:x+y, dists)\n",
    "        return self._length\n",
    "    \n",
    "\n",
    "    @classmethod/\n",
    "    def from_way(cls, way):\n",
    "        nodes = []\n",
    "        id = str(way.id)\n",
    "        for node in way.nodes:\n",
    "            n = Node(node.ref, node.lat, node.lon)\n",
    "            nodes.append(n)\n",
    "        \n",
    "        if way.tags.get('name'):\n",
    "            name = way.tags['name']\n",
    "        else:\n",
    "            name = 'unamed'\n",
    "        return cls(nodes=nodes, id=id, name=name)\n",
    "    \n",
    "    def split_at(self, idxs):\n",
    "        start_idx = 0\n",
    "        result = []\n",
    "        for seg_num, idx in enumerate(idxs):\n",
    "            new_nodes = self.nodes[start_idx:idx+1]\n",
    "            new_id = f'{self.id}-{seg_num}/{len(idxs)}'\n",
    "            result.append(Trail(nodes=new_nodes, id=new_id, name=self.name))\n",
    "            start_idx = idx\n",
    "        \n",
    "        final_nodes = self.nodes[start_idx:]\n",
    "        if final_nodes == []:\n",
    "            assert 'Unexpected empty final nodes'\n",
    "        result.append(Trail(nodes=final_nodes, id=f'{self.id}-{len(idxs)}/{len(idxs)}', name=self.name))\n",
    "        verify_identical_nodes([self], result)\n",
    "        return result\n",
    "    \n",
    "    def reverse(self):\n",
    "        if self._reversed is None:\n",
    "             self._reversed = Trail(list(reversed(self.nodes)), self.id, self.name)\n",
    "        return self._reversed\n",
    "        \n",
    "    def draw(self, gmap, color=None):\n",
    "        lats = [n.lat for n in self.nodes]\n",
    "        lons = [n.lon for n in self.nodes]\n",
    "        color = color or random.choice(list(gmap.html_color_codes.keys()))\n",
    "        gmap.plot(lats, lons, color, edge_width=5)"
   ]
  },
  {
   "cell_type": "code",
   "execution_count": 16,
   "metadata": {},
   "outputs": [],
   "source": [
    "TRAIL = set(['path', 'footway', 'track', 'trail', 'pedestrian'])\n",
    "\n",
    "def is_trail(way):\n",
    "    return 'highway' in way.tags and way.tags['highway'] in TRAIL\n",
    "\n",
    "class TrailLoader(o.SimpleHandler):\n",
    "    def __init__(self):\n",
    "        super(TrailLoader, self).__init__()\n",
    "        self.trails = {}\n",
    "        self.highway_types = set()\n",
    "        self.non_trail_nodes = set()\n",
    "\n",
    "    def way(self, w):\n",
    "        if 'highway' in w.tags:\n",
    "            self.highway_types.add(w.tags['highway'])\n",
    "            if is_trail(w):\n",
    "                try:\n",
    "                    self.trails[w.id] = Trail.from_way(w)\n",
    "                except o.InvalidLocationError:\n",
    "                    # A location error might occur if the osm file is an extract\n",
    "                    # where nodes of ways near the boundary are missing.\n",
    "                    print(\"WARNING: way %d incomplete. Ignoring.\" % w.id)\n",
    "            else:\n",
    "                node_ids = [n.ref for n in w.nodes]\n",
    "                self.non_trail_nodes.update(node_ids)\n",
    "            "
   ]
  },
  {
   "cell_type": "code",
   "execution_count": 17,
   "metadata": {},
   "outputs": [],
   "source": [
    "def filter_trails(here, max_dist_km, trails: List[Trail]):\n",
    "    for trail in trails:\n",
    "        trail_start = (trail.nodes[0].lat, trail.nodes[0].lon)\n",
    "        dist_from_here = geopy.distance.great_circle(here, trail_start).km\n",
    "        if dist_from_here < max_dist_km:\n",
    "            yield trail"
   ]
  },
  {
   "cell_type": "code",
   "execution_count": 18,
   "metadata": {},
   "outputs": [],
   "source": [
    "rlh = TrailLoader()"
   ]
  },
  {
   "cell_type": "code",
   "execution_count": 19,
   "metadata": {},
   "outputs": [],
   "source": [
    "rlh.apply_file('/home/russell/Downloads/california-latest.osm.pbf', locations=True)"
   ]
  },
  {
   "cell_type": "code",
   "execution_count": 20,
   "metadata": {},
   "outputs": [],
   "source": [
    "here = (37.4684697, -122.2895862)\n",
    "        "
   ]
  },
  {
   "cell_type": "code",
   "execution_count": 21,
   "metadata": {},
   "outputs": [
    {
     "data": {
      "text/plain": [
       "6584"
      ]
     },
     "execution_count": 21,
     "metadata": {},
     "output_type": "execute_result"
    }
   ],
   "source": [
    "local_trails = list(filter_trails(here, 20, rlh.trails.values()))\n",
    "len(local_trails)"
   ]
  },
  {
   "cell_type": "code",
   "execution_count": 22,
   "metadata": {},
   "outputs": [],
   "source": [
    "class InverseGraph:\n",
    "    def __init__(self):\n",
    "        self.node_trail_map = defaultdict(list)\n",
    "        self.trails = {}\n",
    "    def add_trail(self, trail: Trail):\n",
    "        self.trails[trail.id] = trail\n",
    "        for node in trail.nodes:\n",
    "            self.node_trail_map[node.id].append(trail.id)"
   ]
  },
  {
   "cell_type": "code",
   "execution_count": 23,
   "metadata": {},
   "outputs": [],
   "source": [
    "import networkx"
   ]
  },
  {
   "cell_type": "code",
   "execution_count": 24,
   "metadata": {},
   "outputs": [],
   "source": [
    "def verify_identical_nodes(trails_in, trails_out):\n",
    "    nodes_in = set()\n",
    "    for trail in trails_in:\n",
    "        for node in trail.nodes:\n",
    "            nodes_in.add(node)\n",
    "    \n",
    "    nodes_out = set()\n",
    "    for trail in trails_out:\n",
    "        for node in trail.nodes:\n",
    "            nodes_out.add(node)\n",
    "    \n",
    "    assert nodes_out == nodes_in\n",
    "\n",
    "def flatten_trails(trails: List[Trail]):\n",
    "    \"\"\"Returns a new list of trails where all intersections are at the start or end\"\"\"\n",
    "    graph = InverseGraph()\n",
    "    for trail in trails:\n",
    "        graph.add_trail(trail)\n",
    "        \n",
    "    flat_trails = []\n",
    "    for trail in trails:\n",
    "        split_idxs = []\n",
    "        for (i, node) in enumerate(trail.nodes[1:-1], 1):\n",
    "            if len(graph.node_trail_map[node.id]) > 1:\n",
    "                split_idxs.append(i)\n",
    "\n",
    "        if split_idxs:\n",
    "            flat_trails += trail.split_at(split_idxs)\n",
    "        else:\n",
    "            flat_trails.append(Trail(nodes=trail.nodes, name=trail.name, id=trail.id))\n",
    "    verify_identical_nodes(trails, flat_trails)\n",
    "    return flat_trails\n",
    "            \n",
    "    "
   ]
  },
  {
   "cell_type": "code",
   "execution_count": 66,
   "metadata": {},
   "outputs": [],
   "source": [
    "trail_segments = flatten_trails(local_trails)"
   ]
  },
  {
   "cell_type": "code",
   "execution_count": 67,
   "metadata": {},
   "outputs": [],
   "source": [
    "import networkx as nx"
   ]
  },
  {
   "cell_type": "code",
   "execution_count": 68,
   "metadata": {},
   "outputs": [],
   "source": [
    "G = nx.Graph()\n",
    "for trail in trail_segments:\n",
    "    G.add_node(trail.nodes[0]), \n",
    "    G.add_node(trail.nodes[-1])\n",
    "    G.add_edge(trail.nodes[0], trail.nodes[-1], weight=trail.length.km, name=trail.name, trail=trail)"
   ]
  },
  {
   "cell_type": "code",
   "execution_count": 69,
   "metadata": {},
   "outputs": [
    {
     "data": {
      "text/plain": [
       "11453"
      ]
     },
     "execution_count": 69,
     "metadata": {},
     "output_type": "execute_result"
    }
   ],
   "source": [
    "G.number_of_edges()"
   ]
  },
  {
   "cell_type": "code",
   "execution_count": 70,
   "metadata": {},
   "outputs": [
    {
     "data": {
      "text/plain": [
       "11329"
      ]
     },
     "execution_count": 70,
     "metadata": {},
     "output_type": "execute_result"
    }
   ],
   "source": [
    "len(G)"
   ]
  },
  {
   "cell_type": "code",
   "execution_count": 71,
   "metadata": {},
   "outputs": [
    {
     "data": {
      "text/plain": [
       "<generator object connected_components at 0x7fa9eb782a40>"
      ]
     },
     "execution_count": 71,
     "metadata": {},
     "output_type": "execute_result"
    }
   ],
   "source": [
    "nx.connected_components(G)"
   ]
  },
  {
   "cell_type": "code",
   "execution_count": 72,
   "metadata": {},
   "outputs": [],
   "source": [
    "import matplotlib.pyplot as plt\n",
    "for c in nx.connected_components(G):\n",
    "    subgraph = G.subgraph(c)\n",
    "    names = set()\n",
    "    total_length_km = 0\n",
    "    for e in subgraph.edges:\n",
    "        names.add(G[e[0]][e[1]]['name'])\n",
    "        total_length_km += G[e[0]][e[1]]['weight']\n",
    "    if 'Edgewood Trail' in names:\n",
    "        edgewood = subgraph\n"
   ]
  },
  {
   "cell_type": "code",
   "execution_count": 73,
   "metadata": {},
   "outputs": [
    {
     "ename": "NameError",
     "evalue": "name 'cycles' is not defined",
     "traceback": [
      "\u001b[0;31m---------------------------------------------------------------------------\u001b[0m",
      "\u001b[0;31mNameError\u001b[0m                                 Traceback (most recent call last)",
      "\u001b[0;32m<ipython-input-73-33959ce8f497>\u001b[0m in \u001b[0;36m<module>\u001b[0;34m()\u001b[0m\n\u001b[1;32m      1\u001b[0m \u001b[0;34m\u001b[0m\u001b[0m\n\u001b[0;32m----> 2\u001b[0;31m \u001b[0;32mfor\u001b[0m \u001b[0mcycle\u001b[0m \u001b[0;32min\u001b[0m \u001b[0mcycles\u001b[0m\u001b[0;34m:\u001b[0m\u001b[0;34m\u001b[0m\u001b[0m\n\u001b[0m\u001b[1;32m      3\u001b[0m     \u001b[0mall_nodes\u001b[0m \u001b[0;34m=\u001b[0m \u001b[0;34m[\u001b[0m\u001b[0;34m]\u001b[0m\u001b[0;34m\u001b[0m\u001b[0m\n\u001b[1;32m      4\u001b[0m     \u001b[0;32mfor\u001b[0m \u001b[0mtrails\u001b[0m \u001b[0;32min\u001b[0m \u001b[0mwindow\u001b[0m\u001b[0;34m(\u001b[0m\u001b[0mcycle\u001b[0m\u001b[0;34m)\u001b[0m\u001b[0;34m:\u001b[0m\u001b[0;34m\u001b[0m\u001b[0m\n\u001b[1;32m      5\u001b[0m         \u001b[0mtrail\u001b[0m \u001b[0;34m=\u001b[0m \u001b[0mG\u001b[0m\u001b[0;34m[\u001b[0m\u001b[0mtrails\u001b[0m\u001b[0;34m[\u001b[0m\u001b[0;36m0\u001b[0m\u001b[0;34m]\u001b[0m\u001b[0;34m]\u001b[0m\u001b[0;34m[\u001b[0m\u001b[0mtrails\u001b[0m\u001b[0;34m[\u001b[0m\u001b[0;36m1\u001b[0m\u001b[0;34m]\u001b[0m\u001b[0;34m]\u001b[0m\u001b[0;34m\u001b[0m\u001b[0m\n",
      "\u001b[0;31mNameError\u001b[0m: name 'cycles' is not defined"
     ],
     "output_type": "error"
    }
   ],
   "source": [
    "\n",
    "for cycle in cycles:\n",
    "    all_nodes = []\n",
    "    for trails in window(cycle):\n",
    "        trail = G[trails[0]][trails[1]]\n",
    "        all_nodes += trail['trail'].nodes\n",
    "    Trail(nodes=all_nodes, name='', id='').draw(gmap)\n",
    "    #trail.draw(gmap)\n",
    "gmap.draw('out.html')"
   ]
  },
  {
   "cell_type": "code",
   "execution_count": 74,
   "metadata": {},
   "outputs": [
    {
     "name": "stdout",
     "output_type": "stream",
     "text": [
      "Created new window in existing browser session.\r\n"
     ]
    }
   ],
   "source": [
    "!xdg-open 'out.html'"
   ]
  },
  {
   "cell_type": "code",
   "execution_count": 189,
   "metadata": {},
   "outputs": [],
   "source": [
    "gmap = gmplot.GoogleMapPlotter(37.4684697, -122.2895862, 13)\n",
    "for (i, node) in enumerate(trailheads):\n",
    "    gmap.marker(node.lat, node.lon, title=f'{i} {node.id}')\n",
    "for trail in trail_segments:\n",
    "    trail.draw(gmap)\n",
    "gmap.draw('out.html')"
   ]
  },
  {
   "cell_type": "code",
   "execution_count": 190,
   "metadata": {},
   "outputs": [
    {
     "name": "stdout",
     "output_type": "stream",
     "text": [
      "Created new window in existing browser session.\r\n"
     ]
    }
   ],
   "source": [
    "!xdg-open 'out.html'"
   ]
  },
  {
   "cell_type": "code",
   "execution_count": 32,
   "metadata": {},
   "outputs": [
    {
     "data": {
      "text/plain": [
       "{Node(id=2434601758, lat=37.4588317, lon=-122.2881614): {'weight': 0.192073409695425,\n",
       "  'name': 'unamed',\n",
       "  'trail': <__main__.Trail at 0x7faa016550b8>}}"
      ]
     },
     "execution_count": 32,
     "metadata": {},
     "output_type": "execute_result"
    }
   ],
   "source": [
    "dict(edgewood[list(edgewood.nodes)[0]])"
   ]
  },
  {
   "cell_type": "code",
   "execution_count": 33,
   "metadata": {},
   "outputs": [],
   "source": [
    "def find_trailheads(subgraph, nontrail_nodeset):\n",
    "    return [node for node in subgraph.nodes if node.id in nontrail_nodeset]\n",
    "    "
   ]
  },
  {
   "cell_type": "code",
   "execution_count": 34,
   "metadata": {},
   "outputs": [
    {
     "name": "stdout",
     "output_type": "stream",
     "text": [
      "[Node(id=1696837192, lat=37.4598348, lon=-122.289653), Node(id=65400961, lat=37.4619932, lon=-122.2772962), Node(id=2434601950, lat=37.4681736, lon=-122.2926052), Node(id=65477906, lat=37.4651783, lon=-122.2963199), Node(id=5589511698, lat=37.4730325, lon=-122.2780075), Node(id=65475046, lat=37.4736526, lon=-122.2798789), Node(id=2434602133, lat=37.4730018, lon=-122.2782414), Node(id=517731894, lat=37.4675898, lon=-122.274849), Node(id=2434601754, lat=37.4578876, lon=-122.287988)]\n"
     ]
    }
   ],
   "source": [
    "trailheads = find_trailheads(edgewood, rlh.non_trail_nodes)\n",
    "print(trailheads)"
   ]
  },
  {
   "cell_type": "code",
   "execution_count": 122,
   "metadata": {},
   "outputs": [],
   "source": [
    "class Subpath:\n",
    "    \n",
    "    @classmethod \n",
    "    def from_startnode(cls, starting_node: Node):\n",
    "        trail_segments = [Trail(id='fakeroot', name='fakeroot',nodes=[starting_node, starting_node])]\n",
    "        return cls(trail_segments)\n",
    "        \n",
    "    def __init__(self, segments: List[Trail]):\n",
    "        self.trail_segments = segments\n",
    "        \n",
    "    def add_node(self, trail_segment: Trail):\n",
    "        current_final = self.last_node()\n",
    "        if trail_segment.nodes[0] == current_final:\n",
    "            self.trail_segments.append(trail_segment)\n",
    "        else:\n",
    "            self.trail_segments.append(trail_segment.reverse())\n",
    "        \n",
    "        return self.is_complete()\n",
    "    \n",
    "    def nodes(self):\n",
    "        for seg in self.trail_segments:\n",
    "            for node in seg.nodes:\n",
    "                yield node\n",
    "    \n",
    "    def is_complete(self):\n",
    "        return self.trail_segments[0].nodes[0] == self.last_node()\n",
    "\n",
    "    def fork(self):\n",
    "        return Subpath(list(self.trail_segments))\n",
    "    \n",
    "    def distance_km(self):\n",
    "        return sum([t.length.km for t in self.trail_segments])\n",
    "    \n",
    "    def last_node(self):\n",
    "        return self.trail_segments[-1].nodes[-1]\n",
    "    \n",
    "    def __repr__(self):\n",
    "        names = [seg.name for seg in self.trail_segments]\n",
    "        if self.is_complete():\n",
    "            names.append('fakeroot')\n",
    "        return f'{self.distance_km()}: {\"<->\".join(names)}'\n",
    "    \n",
    "    def draw(self, gmap):\n",
    "        for trail in self.trail_segments:\n",
    "            trail.draw(gmap)\n",
    "\n",
    "def find_loops_from_root(subgraph, root, max_segments=20, max_distance_km=10, max_concurrent=1000):\n",
    "    complete_paths = []\n",
    "    active_paths = [Subpath.from_startnode(root)]\n",
    "    while active_paths:\n",
    "        filtered_paths = []\n",
    "        for path in active_paths:\n",
    "            if path.distance_km() < max_distance_km and len(path.trail_segments) < max_segments:\n",
    "                filtered_paths.append(path)\n",
    "        active_paths = filtered_paths\n",
    "        final_paths = []\n",
    "        random.shuffle(active_paths)\n",
    "        active_paths = active_paths[:max_concurrent]\n",
    "        for path in active_paths:\n",
    "            options = list(dict(subgraph[path.last_node()]).items())\n",
    "            random.shuffle(options)\n",
    "            for next_node, next_trail in options:\n",
    "                if next_trail['trail'].id == path.trail_segments[-1].id:\n",
    "                    continue\n",
    "                new_path = path.fork()\n",
    "                is_loop = new_path.add_node(next_trail['trail'])\n",
    "                if is_loop:\n",
    "                    yield new_path\n",
    "                final_paths.append(new_path)\n",
    "        active_paths = final_paths\n",
    "    return complete_paths\n",
    "            \n",
    "        # Filter too long paths\n",
    "        # Filter too many node paths\n",
    "        \n",
    "        \n",
    "    "
   ]
  },
  {
   "cell_type": "code",
   "execution_count": 123,
   "metadata": {},
   "outputs": [],
   "source": [
    "loops = list(find_loops_from_root(edgewood, trailheads[0], max_segments=100, max_distance_km=30))"
   ]
  },
  {
   "cell_type": "code",
   "execution_count": 124,
   "metadata": {},
   "outputs": [
    {
     "name": "stdout",
     "output_type": "stream",
     "text": [
      "30.190114552374176: fakeroot<->unamed<->Clarkia Trail<->unamed<->Sunset Trail<->Edgewood Trail<->Edgewood Trail<->Edgewood Trail<->Edgewood Trail<->Edgewood Trail<->Old Stage Road<->Franciscan Trail<->Edgewood Trail<->Old Stage Road<->Franciscan Trail<->Edgewood Trail<->Old Stage Road<->Franciscan Trail<->Edgewood Trail<->Old Stage Road<->Franciscan Trail<->Edgewood Trail<->Old Stage Road<->Old Stage Road<->Serpentine Trail<->Franciscan Trail<->Live Oak Trail<->Ridgeview Trail<->Franciscan Trail<->Franciscan Trail<->Serpentine Trail<->Old Stage Road<->Old Stage Road<->Edgewood Trail<->Franciscan Trail<->Old Stage Road<->Serpentine Trail<->Edgewood Trail<->Ridgeview Trail<->Ridgeview Trail<->Live Oak Trail<->Serpentine Trail<->Serpentine Trail<->Serpentine Trail<->Serpentine Trail<->Edgewood Trail<->Edgewood Trail<->Old Stage Road<->Franciscan Trail<->Franciscan Trail<->Serpentine Trail<->Old Stage Road<->Franciscan Trail<->Edgewood Trail<->Old Stage Road<->Old Stage Road<->Serpentine Trail<->Franciscan Trail<->Franciscan Trail<->Ridgeview Trail<->Live Oak Trail<->Franciscan Trail<->Franciscan Trail<->Franciscan Trail<->Old Stage Road<->Serpentine Trail<->Edgewood Trail<->Franciscan Trail<->Old Stage Road<->Edgewood Trail<->Franciscan Trail<->Old Stage Road<->Edgewood Trail<->Edgewood Trail<->Serpentine Trail<->Old Stage Road<->Franciscan Trail<->Franciscan Trail<->Serpentine Trail<->Serpentine Trail<->Edgewood Trail<->Edgewood Trail<->Edgewood Trail<->Sunset Trail<->unamed<->Clarkia Trail<->unamed<->fakeroot\n",
      "87\n"
     ]
    }
   ],
   "source": [
    "longest = sorted(loops, key=lambda l: -1 * l.distance_km())[0]\n",
    "print(longest)\n",
    "print(len(longest.trail_segments))\n",
    "gmap = gmplot.GoogleMapPlotter(37.4684697, -122.2895862, 13)\n",
    "longest.draw(gmap)\n",
    "gmap.draw('out.html')"
   ]
  },
  {
   "cell_type": "code",
   "execution_count": 105,
   "metadata": {},
   "outputs": [
    {
     "name": "stdout",
     "output_type": "stream",
     "text": [
      "Created new window in existing browser session.\r\n"
     ]
    }
   ],
   "source": [
    "!xdg-open 'out.html'"
   ]
  },
  {
   "cell_type": "code",
   "execution_count": 125,
   "metadata": {},
   "outputs": [
    {
     "data": {
      "text/plain": [
       "671"
      ]
     },
     "execution_count": 125,
     "metadata": {},
     "output_type": "execute_result"
    }
   ],
   "source": [
    "len(loops)"
   ]
  },
  {
   "cell_type": "code",
   "execution_count": 181,
   "metadata": {},
   "outputs": [
    {
     "data": {
      "image/png": "[encoded data removed]",
      "text/plain": [
       "<Figure size 432x288 with 1 Axes>"
      ]
     },
     "metadata": {},
     "output_type": "display_data"
    }
   ],
   "source": [
    "import numpy as np\n",
    "import matplotlib.mlab as mlab\n",
    "import matplotlib.pyplot as plt\n",
    " \n",
    "x = [ElevationChange.from_nodes(l.nodes()).gain for l in la.candidates(10).loops]\n",
    "num_bins = 50\n",
    "n, bins, patches = plt.hist(x, num_bins, facecolor='blue', alpha=0.5)\n",
    "plt.show()\n",
    "\n",
    "\n"
   ]
  },
  {
   "cell_type": "code",
   "execution_count": 169,
   "metadata": {},
   "outputs": [],
   "source": [
    "class LoopAnalyzer:\n",
    "    def __init__(self, loop_list: List[Subpath]):\n",
    "        self.loops = loop_list\n",
    "    \n",
    "    def candidates(self, length_target: float, tolerance=1):\n",
    "        return LoopAnalyzer([loop for loop in loops if abs(loop.distance_km() - length_target) < tolerance])\n",
    "    \n",
    "    def minimize_elevation(self):\n",
    "        return LoopAnalyzer(sorted([l for l in self.loops], key = lambda l: ElevationChange.from_nodes(l.nodes()).gain))\n",
    "\n",
    "    def maximize_elevation(self):\n",
    "        return LoopAnalyzer(list(reversed(self.minimize_elevation().loops)))\n",
    "    \n",
    "    def __repr__(self):\n",
    "        return f'LoopAnalyzer: {self.loops[:3].__repr__()}'\n",
    "la = LoopAnalyzer(loops)"
   ]
  },
  {
   "cell_type": "code",
   "execution_count": 170,
   "metadata": {},
   "outputs": [
    {
     "data": {
      "text/plain": [
       "LoopAnalyzer: [4.002165927750376: fakeroot<->unamed<->Clarkia Trail<->unamed<->Sunset Trail<->Edgewood Trail<->Edgewood Trail<->Edgewood Trail<->Edgewood Trail<->Edgewood Trail<->Edgewood Trail<->Edgewood Trail<->Edgewood Trail<->Edgewood Trail<->Sunset Trail<->unamed<->Clarkia Trail<->unamed<->fakeroot, 4.654301666062597: fakeroot<->unamed<->Clarkia Trail<->Clarkia Trail<->Sunset Trail<->Sunset Trail<->Sunset Trail<->Edgewood Trail<->Edgewood Trail<->Edgewood Trail<->Sunset Trail<->unamed<->Clarkia Trail<->unamed<->fakeroot, 4.654301666062062: fakeroot<->unamed<->Clarkia Trail<->unamed<->Sunset Trail<->Edgewood Trail<->Edgewood Trail<->Edgewood Trail<->Sunset Trail<->Sunset Trail<->Sunset Trail<->Clarkia Trail<->Clarkia Trail<->unamed<->fakeroot]"
      ]
     },
     "execution_count": 170,
     "metadata": {},
     "output_type": "execute_result"
    }
   ],
   "source": []
  },
  {
   "cell_type": "code",
   "execution_count": 177,
   "metadata": {},
   "outputs": [],
   "source": [
    "gmap = gmplot.GoogleMapPlotter(37.4684697, -122.2895862, 13)\n",
    "la.candidates(10.0).maximize_elevation().loops[0].draw(gmap)\n",
    "gmap.draw('out.html')"
   ]
  },
  {
   "cell_type": "code",
   "execution_count": 178,
   "metadata": {
    "collapsed": true
   },
   "outputs": [
    {
     "name": "stdout",
     "output_type": "stream",
     "text": [
      "Created new window in existing browser session.\r\n"
     ]
    }
   ],
   "source": [
    "!xdg-open 'out.html'"
   ]
  },
  {
   "cell_type": "code",
   "execution_count": 143,
   "metadata": {},
   "outputs": [
    {
     "data": {
      "text/plain": [
       "ElevationChange(gain=1583, loss=1583)"
      ]
     },
     "execution_count": 143,
     "metadata": {},
     "output_type": "execute_result"
    }
   ],
   "source": [
    "ElevationChange.from_nodes(la.candidates(50.0)[0].nodes())"
   ]
  },
  {
   "cell_type": "code",
   "execution_count": 132,
   "metadata": {},
   "outputs": [
    {
     "name": "stdout",
     "output_type": "stream",
     "text": [
      "cache  out.html  trails.ipynb  Untitled1.ipynb\tUntitled.ipynb\r\n"
     ]
    }
   ],
   "source": [
    "!ls"
   ]
  },
  {
   "cell_type": "code",
   "execution_count": 133,
   "metadata": {},
   "outputs": [
    {
     "name": "stdout",
     "output_type": "stream",
     "text": [
      ".   cache\t\tout.html      Untitled1.ipynb\r\n",
      "..  .ipynb_checkpoints\ttrails.ipynb  Untitled.ipynb\r\n"
     ]
    }
   ],
   "source": [
    "!ls -a"
   ]
  },
  {
   "cell_type": "code",
   "execution_count": null,
   "metadata": {},
   "outputs": [],
   "source": []
  }
 ],
 "metadata": {
  "kernelspec": {
   "display_name": "Python 3",
   "language": "python",
   "name": "python3"
  },
  "language_info": {
   "codemirror_mode": {
    "name": "ipython",
    "version": 3
   },
   "file_extension": ".py",
   "mimetype": "text/x-python",
   "name": "python",
   "nbconvert_exporter": "python",
   "pygments_lexer": "ipython3",
   "version": "3.6.5"
  }
 },
 "nbformat": 4,
 "nbformat_minor": 2
}
