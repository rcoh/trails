{
 "cells": [
  {
   "cell_type": "code",
   "execution_count": 3,
   "metadata": {},
   "outputs": [],
   "source": [
    "import sys\n",
    "sys.path.insert(0, '/home/russell/code/trails/')"
   ]
  },
  {
   "cell_type": "code",
   "execution_count": 4,
   "metadata": {},
   "outputs": [],
   "source": [
    "from trails.loader import OSMIngestor, find_loops_from_root\n",
    "from test.test_loader import test_data\n",
    "ingestor = OSMIngestor()\n",
    "ingestor.ingest_file(next(test_data()) / 'huddart.osm')\n",
    "huddart = [network for network in ingestor.trail_networks() if 'Miramontes Trail' in network.trail_names()][0]\n",
    "loops = []\n",
    "for trailhead in huddart.trailheads:\n",
    "    loops += find_loops_from_root(huddart, trailhead, max_segments=20, max_distance_km=55)"
   ]
  },
  {
   "cell_type": "code",
   "execution_count": null,
   "metadata": {},
   "outputs": [],
   "source": [
    "max([l.distance_km() for l in loops])"
   ]
  },
  {
   "cell_type": "code",
   "execution_count": null,
   "metadata": {},
   "outputs": [],
   "source": [
    "len(loops)"
   ]
  },
  {
   "cell_type": "code",
   "execution_count": null,
   "metadata": {},
   "outputs": [],
   "source": [
    "import matplotlib.pyplot as plt\n",
    "x = [l.distance_km() for l in loops]\n",
    "num_bins = 50\n",
    "n, bins, patches = plt.hist(x, num_bins, facecolor='blue', alpha=0.5)\n",
    "plt.show()"
   ]
  },
  {
   "cell_type": "code",
   "execution_count": 5,
   "metadata": {},
   "outputs": [
    {
     "data": {
      "text/plain": [
       "{'starting_location': {'id': 3293513907,\n",
       "  'lat': 37.4291408,\n",
       "  'lon': -122.3122039},\n",
       " 'length': 0.11003849512486708,\n",
       " 'elevation_gain': 0,\n",
       " 'trails': ['fakeroot', '555308657', '555308657'],\n",
       " 'nodes': [{'id': 3293513907, 'lat': 37.4291408, 'lon': -122.3122039},\n",
       "  {'id': 3293513907, 'lat': 37.4291408, 'lon': -122.3122039},\n",
       "  {'id': 3293513907, 'lat': 37.4291408, 'lon': -122.3122039},\n",
       "  {'id': 5357841052, 'lat': 37.429153, 'lon': -122.3119818},\n",
       "  {'id': 1182172848, 'lat': 37.429175, 'lon': -122.3115823},\n",
       "  {'id': 1182172848, 'lat': 37.429175, 'lon': -122.3115823},\n",
       "  {'id': 5357841052, 'lat': 37.429153, 'lon': -122.3119818},\n",
       "  {'id': 3293513907, 'lat': 37.4291408, 'lon': -122.3122039}]}"
      ]
     },
     "execution_count": 5,
     "metadata": {},
     "output_type": "execute_result"
    }
   ],
   "source": [
    "loops[0].to_dict()"
   ]
  },
  {
   "cell_type": "code",
   "execution_count": 7,
   "metadata": {},
   "outputs": [
    {
     "data": {
      "text/plain": [
       "93744134"
      ]
     },
     "execution_count": 7,
     "metadata": {},
     "output_type": "execute_result"
    }
   ],
   "source": [
    "import json\n",
    "len(json.dumps([l.to_dict() for l in loops]))"
   ]
  },
  {
   "cell_type": "code",
   "execution_count": null,
   "metadata": {},
   "outputs": [],
   "source": []
  }
 ],
 "metadata": {
  "kernelspec": {
   "display_name": "Python 3",
   "language": "python",
   "name": "python3"
  },
  "language_info": {
   "codemirror_mode": {
    "name": "ipython",
    "version": 3
   },
   "file_extension": ".py",
   "mimetype": "text/x-python",
   "name": "python",
   "nbconvert_exporter": "python",
   "pygments_lexer": "ipython3",
   "version": "3.6.5"
  }
 },
 "nbformat": 4,
 "nbformat_minor": 2
}
