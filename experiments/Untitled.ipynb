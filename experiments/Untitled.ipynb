{
 "cells": [
  {
   "cell_type": "code",
   "execution_count": 1,
   "metadata": {},
   "outputs": [
    {
     "name": "stdout",
     "output_type": "stream",
     "text": [
      "Collecting srtm\n",
      "\u001b[31m  Could not find a version that satisfies the requirement srtm (from versions: )\u001b[0m\n",
      "\u001b[31mNo matching distribution found for srtm\u001b[0m\n",
      "\u001b[33mCache entry deserialization failed, entry ignored\u001b[0m\n"
     ]
    }
   ],
   "source": [
    "!pip install srtm"
   ]
  },
  {
   "cell_type": "code",
   "execution_count": 2,
   "metadata": {},
   "outputs": [
    {
     "name": "stdout",
     "output_type": "stream",
     "text": [
      "Collecting srtm.py\n",
      "\u001b[?25l  Downloading https://files.pythonhosted.org/packages/8a/c3/cc98d146b12174e0bd0209fa613dca21ab529b2820f5347a62b05cb363f8/SRTM.py-0.3.4.tar.gz (101kB)\n",
      "\u001b[K    100% |████████████████████████████████| 102kB 2.8MB/s a 0:00:01\n",
      "\u001b[?25hRequirement already satisfied: requests in /home/russell/anaconda3/lib/python3.6/site-packages (from srtm.py) (2.18.4)\n",
      "Requirement already satisfied: chardet<3.1.0,>=3.0.2 in /home/russell/anaconda3/lib/python3.6/site-packages (from requests->srtm.py) (3.0.4)\n",
      "Requirement already satisfied: idna<2.7,>=2.5 in /home/russell/anaconda3/lib/python3.6/site-packages (from requests->srtm.py) (2.6)\n",
      "Requirement already satisfied: urllib3<1.23,>=1.21.1 in /home/russell/anaconda3/lib/python3.6/site-packages (from requests->srtm.py) (1.22)\n",
      "Requirement already satisfied: certifi>=2017.4.17 in /home/russell/anaconda3/lib/python3.6/site-packages (from requests->srtm.py) (2018.4.16)\n",
      "Building wheels for collected packages: srtm.py\n",
      "  Running setup.py bdist_wheel for srtm.py ... \u001b[?25ldone\n",
      "\u001b[?25h  Stored in directory: /home/russell/.cache/pip/wheels/5e/fd/d4/c8d4c468b808eb53129055d982fbe019d1cb5494238b5faa14\n",
      "Successfully built srtm.py\n",
      "Installing collected packages: srtm.py\n",
      "Successfully installed srtm.py-0.3.4\n"
     ]
    }
   ],
   "source": [
    "!pip install srtm.py"
   ]
  },
  {
   "cell_type": "code",
   "execution_count": 3,
   "metadata": {},
   "outputs": [],
   "source": [
    "import srtm"
   ]
  },
  {
   "cell_type": "code",
   "execution_count": 4,
   "metadata": {},
   "outputs": [],
   "source": [
    "elevation_data = srtm.get_data()"
   ]
  },
  {
   "cell_type": "code",
   "execution_count": 6,
   "metadata": {},
   "outputs": [
    {
     "data": {
      "text/plain": [
       "74"
      ]
     },
     "execution_count": 6,
     "metadata": {},
     "output_type": "execute_result"
    }
   ],
   "source": [
    "elevation_data.get_elevation(50.8682, 7.1377)"
   ]
  },
  {
   "cell_type": "code",
   "execution_count": null,
   "metadata": {},
   "outputs": [],
   "source": []
  }
 ],
 "metadata": {
  "kernelspec": {
   "display_name": "Python 3",
   "language": "python",
   "name": "python3"
  },
  "language_info": {
   "codemirror_mode": {
    "name": "ipython",
    "version": 3
   },
   "file_extension": ".py",
   "mimetype": "text/x-python",
   "name": "python",
   "nbconvert_exporter": "python",
   "pygments_lexer": "ipython3",
   "version": "3.6.5"
  }
 },
 "nbformat": 4,
 "nbformat_minor": 2
}
