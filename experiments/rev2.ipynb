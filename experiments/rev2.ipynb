{
 "cells": [
  {
   "cell_type": "code",
   "execution_count": null,
   "metadata": {
    "collapsed": true
   },
   "outputs": [],
   "source": [
    "from test.test_loader import test_data\n",
    "from trails.loader import OSMIngestor, find_loops_from_root\n",
    "\n",
    "ingestor = OSMIngestor()\n",
    "ingestor.ingest_file(test_data / 'huddart.osm')\n",
    "huddart = [network for network in ingestor.trail_networks() if 'Miramontes Trail' in network.trail_names()][0]\n",
    "loops = []\n",
    "for trailhead in huddart.trailheads:\n",
    "    loops += find_loops_from_root(huddart, trailhead, max_segments=10, max_distance_km=55)"
   ]
  }
 ],
 "metadata": {
  "kernelspec": {
   "display_name": "Python 2",
   "language": "python",
   "name": "python2"
  },
  "language_info": {
   "codemirror_mode": {
    "name": "ipython",
    "version": 2
   },
   "file_extension": ".py",
   "mimetype": "text/x-python",
   "name": "python",
   "nbconvert_exporter": "python",
   "pygments_lexer": "ipython2",
   "version": "2.7.6"
  }
 },
 "nbformat": 4,
 "nbformat_minor": 0
}
